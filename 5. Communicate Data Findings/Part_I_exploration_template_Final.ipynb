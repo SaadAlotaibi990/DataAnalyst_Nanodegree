{
 "cells": [
  {
   "cell_type": "markdown",
   "metadata": {
    "slideshow": {
     "slide_type": "fragment"
    }
   },
   "source": [
    "# Ford GoBike System Data"
   ]
  },
  {
   "cell_type": "markdown",
   "metadata": {
    "slideshow": {
     "slide_type": "slide"
    }
   },
   "source": [
    "## Done by: Saad Alotaibi"
   ]
  },
  {
   "cell_type": "markdown",
   "metadata": {
    "slideshow": {
     "slide_type": "slide"
    }
   },
   "source": [
    "## Introduction\n",
    "> This data set is taken from ford go bike website and it represents trips taken by members of the service for month of February of 2019."
   ]
  },
  {
   "cell_type": "markdown",
   "metadata": {
    "slideshow": {
     "slide_type": "skip"
    }
   },
   "source": [
    "## Preliminary Wrangling"
   ]
  },
  {
   "cell_type": "code",
   "execution_count": 1,
   "metadata": {
    "slideshow": {
     "slide_type": "skip"
    }
   },
   "outputs": [],
   "source": [
    "# import all packages and set plots to be embedded inline\n",
    "import numpy as np\n",
    "import pandas as pd\n",
    "import matplotlib.pyplot as plt\n",
    "import seaborn as sb\n",
    "import matplotlib.ticker as tick\n",
    "import datetime\n",
    "from matplotlib import rcParams\n",
    "\n",
    "%matplotlib inline"
   ]
  },
  {
   "cell_type": "markdown",
   "metadata": {
    "slideshow": {
     "slide_type": "skip"
    }
   },
   "source": [
    "> Load in your dataset and describe its properties through the questions below. Try and motivate your exploration goals through this section.\n"
   ]
  },
  {
   "cell_type": "code",
   "execution_count": 2,
   "metadata": {
    "scrolled": true,
    "slideshow": {
     "slide_type": "skip"
    }
   },
   "outputs": [
    {
     "data": {
      "text/html": [
       "<div>\n",
       "<style scoped>\n",
       "    .dataframe tbody tr th:only-of-type {\n",
       "        vertical-align: middle;\n",
       "    }\n",
       "\n",
       "    .dataframe tbody tr th {\n",
       "        vertical-align: top;\n",
       "    }\n",
       "\n",
       "    .dataframe thead th {\n",
       "        text-align: right;\n",
       "    }\n",
       "</style>\n",
       "<table border=\"1\" class=\"dataframe\">\n",
       "  <thead>\n",
       "    <tr style=\"text-align: right;\">\n",
       "      <th></th>\n",
       "      <th>duration_sec</th>\n",
       "      <th>start_time</th>\n",
       "      <th>end_time</th>\n",
       "      <th>start_station_id</th>\n",
       "      <th>start_station_name</th>\n",
       "      <th>start_station_latitude</th>\n",
       "      <th>start_station_longitude</th>\n",
       "      <th>end_station_id</th>\n",
       "      <th>end_station_name</th>\n",
       "      <th>end_station_latitude</th>\n",
       "      <th>end_station_longitude</th>\n",
       "      <th>bike_id</th>\n",
       "      <th>user_type</th>\n",
       "      <th>member_birth_year</th>\n",
       "      <th>member_gender</th>\n",
       "      <th>bike_share_for_all_trip</th>\n",
       "    </tr>\n",
       "  </thead>\n",
       "  <tbody>\n",
       "    <tr>\n",
       "      <th>0</th>\n",
       "      <td>52185</td>\n",
       "      <td>2019-02-28 17:32:10.1450</td>\n",
       "      <td>2019-03-01 08:01:55.9750</td>\n",
       "      <td>21.0</td>\n",
       "      <td>Montgomery St BART Station (Market St at 2nd St)</td>\n",
       "      <td>37.789625</td>\n",
       "      <td>-122.400811</td>\n",
       "      <td>13.0</td>\n",
       "      <td>Commercial St at Montgomery St</td>\n",
       "      <td>37.794231</td>\n",
       "      <td>-122.402923</td>\n",
       "      <td>4902</td>\n",
       "      <td>Customer</td>\n",
       "      <td>1984.0</td>\n",
       "      <td>Male</td>\n",
       "      <td>No</td>\n",
       "    </tr>\n",
       "    <tr>\n",
       "      <th>1</th>\n",
       "      <td>42521</td>\n",
       "      <td>2019-02-28 18:53:21.7890</td>\n",
       "      <td>2019-03-01 06:42:03.0560</td>\n",
       "      <td>23.0</td>\n",
       "      <td>The Embarcadero at Steuart St</td>\n",
       "      <td>37.791464</td>\n",
       "      <td>-122.391034</td>\n",
       "      <td>81.0</td>\n",
       "      <td>Berry St at 4th St</td>\n",
       "      <td>37.775880</td>\n",
       "      <td>-122.393170</td>\n",
       "      <td>2535</td>\n",
       "      <td>Customer</td>\n",
       "      <td>NaN</td>\n",
       "      <td>NaN</td>\n",
       "      <td>No</td>\n",
       "    </tr>\n",
       "    <tr>\n",
       "      <th>2</th>\n",
       "      <td>61854</td>\n",
       "      <td>2019-02-28 12:13:13.2180</td>\n",
       "      <td>2019-03-01 05:24:08.1460</td>\n",
       "      <td>86.0</td>\n",
       "      <td>Market St at Dolores St</td>\n",
       "      <td>37.769305</td>\n",
       "      <td>-122.426826</td>\n",
       "      <td>3.0</td>\n",
       "      <td>Powell St BART Station (Market St at 4th St)</td>\n",
       "      <td>37.786375</td>\n",
       "      <td>-122.404904</td>\n",
       "      <td>5905</td>\n",
       "      <td>Customer</td>\n",
       "      <td>1972.0</td>\n",
       "      <td>Male</td>\n",
       "      <td>No</td>\n",
       "    </tr>\n",
       "    <tr>\n",
       "      <th>3</th>\n",
       "      <td>36490</td>\n",
       "      <td>2019-02-28 17:54:26.0100</td>\n",
       "      <td>2019-03-01 04:02:36.8420</td>\n",
       "      <td>375.0</td>\n",
       "      <td>Grove St at Masonic Ave</td>\n",
       "      <td>37.774836</td>\n",
       "      <td>-122.446546</td>\n",
       "      <td>70.0</td>\n",
       "      <td>Central Ave at Fell St</td>\n",
       "      <td>37.773311</td>\n",
       "      <td>-122.444293</td>\n",
       "      <td>6638</td>\n",
       "      <td>Subscriber</td>\n",
       "      <td>1989.0</td>\n",
       "      <td>Other</td>\n",
       "      <td>No</td>\n",
       "    </tr>\n",
       "    <tr>\n",
       "      <th>4</th>\n",
       "      <td>1585</td>\n",
       "      <td>2019-02-28 23:54:18.5490</td>\n",
       "      <td>2019-03-01 00:20:44.0740</td>\n",
       "      <td>7.0</td>\n",
       "      <td>Frank H Ogawa Plaza</td>\n",
       "      <td>37.804562</td>\n",
       "      <td>-122.271738</td>\n",
       "      <td>222.0</td>\n",
       "      <td>10th Ave at E 15th St</td>\n",
       "      <td>37.792714</td>\n",
       "      <td>-122.248780</td>\n",
       "      <td>4898</td>\n",
       "      <td>Subscriber</td>\n",
       "      <td>1974.0</td>\n",
       "      <td>Male</td>\n",
       "      <td>Yes</td>\n",
       "    </tr>\n",
       "  </tbody>\n",
       "</table>\n",
       "</div>"
      ],
      "text/plain": [
       "   duration_sec                start_time                  end_time  \\\n",
       "0         52185  2019-02-28 17:32:10.1450  2019-03-01 08:01:55.9750   \n",
       "1         42521  2019-02-28 18:53:21.7890  2019-03-01 06:42:03.0560   \n",
       "2         61854  2019-02-28 12:13:13.2180  2019-03-01 05:24:08.1460   \n",
       "3         36490  2019-02-28 17:54:26.0100  2019-03-01 04:02:36.8420   \n",
       "4          1585  2019-02-28 23:54:18.5490  2019-03-01 00:20:44.0740   \n",
       "\n",
       "   start_station_id                                start_station_name  \\\n",
       "0              21.0  Montgomery St BART Station (Market St at 2nd St)   \n",
       "1              23.0                     The Embarcadero at Steuart St   \n",
       "2              86.0                           Market St at Dolores St   \n",
       "3             375.0                           Grove St at Masonic Ave   \n",
       "4               7.0                               Frank H Ogawa Plaza   \n",
       "\n",
       "   start_station_latitude  start_station_longitude  end_station_id  \\\n",
       "0               37.789625              -122.400811            13.0   \n",
       "1               37.791464              -122.391034            81.0   \n",
       "2               37.769305              -122.426826             3.0   \n",
       "3               37.774836              -122.446546            70.0   \n",
       "4               37.804562              -122.271738           222.0   \n",
       "\n",
       "                               end_station_name  end_station_latitude  \\\n",
       "0                Commercial St at Montgomery St             37.794231   \n",
       "1                            Berry St at 4th St             37.775880   \n",
       "2  Powell St BART Station (Market St at 4th St)             37.786375   \n",
       "3                        Central Ave at Fell St             37.773311   \n",
       "4                         10th Ave at E 15th St             37.792714   \n",
       "\n",
       "   end_station_longitude  bike_id   user_type  member_birth_year  \\\n",
       "0            -122.402923     4902    Customer             1984.0   \n",
       "1            -122.393170     2535    Customer                NaN   \n",
       "2            -122.404904     5905    Customer             1972.0   \n",
       "3            -122.444293     6638  Subscriber             1989.0   \n",
       "4            -122.248780     4898  Subscriber             1974.0   \n",
       "\n",
       "  member_gender bike_share_for_all_trip  \n",
       "0          Male                      No  \n",
       "1           NaN                      No  \n",
       "2          Male                      No  \n",
       "3         Other                      No  \n",
       "4          Male                     Yes  "
      ]
     },
     "execution_count": 2,
     "metadata": {},
     "output_type": "execute_result"
    }
   ],
   "source": [
    "df = pd.read_csv(\"/Users/saad/Desktop/DAND/5. Communicate Data Findings/Case_Study/Final_Submission 2/201902-fordgobike-tripdata.csv\")\n",
    "df.head()"
   ]
  },
  {
   "cell_type": "code",
   "execution_count": 3,
   "metadata": {
    "slideshow": {
     "slide_type": "skip"
    }
   },
   "outputs": [
    {
     "data": {
      "text/plain": [
       "(183412, 16)"
      ]
     },
     "execution_count": 3,
     "metadata": {},
     "output_type": "execute_result"
    }
   ],
   "source": [
    "df.shape"
   ]
  },
  {
   "cell_type": "code",
   "execution_count": 4,
   "metadata": {
    "slideshow": {
     "slide_type": "skip"
    }
   },
   "outputs": [
    {
     "name": "stdout",
     "output_type": "stream",
     "text": [
      "<class 'pandas.core.frame.DataFrame'>\n",
      "RangeIndex: 183412 entries, 0 to 183411\n",
      "Data columns (total 16 columns):\n",
      " #   Column                   Non-Null Count   Dtype  \n",
      "---  ------                   --------------   -----  \n",
      " 0   duration_sec             183412 non-null  int64  \n",
      " 1   start_time               183412 non-null  object \n",
      " 2   end_time                 183412 non-null  object \n",
      " 3   start_station_id         183215 non-null  float64\n",
      " 4   start_station_name       183215 non-null  object \n",
      " 5   start_station_latitude   183412 non-null  float64\n",
      " 6   start_station_longitude  183412 non-null  float64\n",
      " 7   end_station_id           183215 non-null  float64\n",
      " 8   end_station_name         183215 non-null  object \n",
      " 9   end_station_latitude     183412 non-null  float64\n",
      " 10  end_station_longitude    183412 non-null  float64\n",
      " 11  bike_id                  183412 non-null  int64  \n",
      " 12  user_type                183412 non-null  object \n",
      " 13  member_birth_year        175147 non-null  float64\n",
      " 14  member_gender            175147 non-null  object \n",
      " 15  bike_share_for_all_trip  183412 non-null  object \n",
      "dtypes: float64(7), int64(2), object(7)\n",
      "memory usage: 22.4+ MB\n"
     ]
    }
   ],
   "source": [
    "df.info()"
   ]
  },
  {
   "cell_type": "markdown",
   "metadata": {
    "slideshow": {
     "slide_type": "skip"
    }
   },
   "source": [
    "### Assess\n",
    "1. `start_time` and `end_time` should be datetime \n",
    "2. `bike_id` should be int\n",
    "3. `start_station_id` and `end_station_id` should be int "
   ]
  },
  {
   "cell_type": "code",
   "execution_count": 5,
   "metadata": {
    "slideshow": {
     "slide_type": "skip"
    }
   },
   "outputs": [
    {
     "data": {
      "text/html": [
       "<div>\n",
       "<style scoped>\n",
       "    .dataframe tbody tr th:only-of-type {\n",
       "        vertical-align: middle;\n",
       "    }\n",
       "\n",
       "    .dataframe tbody tr th {\n",
       "        vertical-align: top;\n",
       "    }\n",
       "\n",
       "    .dataframe thead th {\n",
       "        text-align: right;\n",
       "    }\n",
       "</style>\n",
       "<table border=\"1\" class=\"dataframe\">\n",
       "  <thead>\n",
       "    <tr style=\"text-align: right;\">\n",
       "      <th></th>\n",
       "      <th>duration_sec</th>\n",
       "      <th>start_station_id</th>\n",
       "      <th>start_station_latitude</th>\n",
       "      <th>start_station_longitude</th>\n",
       "      <th>end_station_id</th>\n",
       "      <th>end_station_latitude</th>\n",
       "      <th>end_station_longitude</th>\n",
       "      <th>bike_id</th>\n",
       "      <th>member_birth_year</th>\n",
       "    </tr>\n",
       "  </thead>\n",
       "  <tbody>\n",
       "    <tr>\n",
       "      <th>count</th>\n",
       "      <td>183412.000000</td>\n",
       "      <td>183215.000000</td>\n",
       "      <td>183412.000000</td>\n",
       "      <td>183412.000000</td>\n",
       "      <td>183215.000000</td>\n",
       "      <td>183412.000000</td>\n",
       "      <td>183412.000000</td>\n",
       "      <td>183412.000000</td>\n",
       "      <td>175147.000000</td>\n",
       "    </tr>\n",
       "    <tr>\n",
       "      <th>mean</th>\n",
       "      <td>726.078435</td>\n",
       "      <td>138.590427</td>\n",
       "      <td>37.771223</td>\n",
       "      <td>-122.352664</td>\n",
       "      <td>136.249123</td>\n",
       "      <td>37.771427</td>\n",
       "      <td>-122.352250</td>\n",
       "      <td>4472.906375</td>\n",
       "      <td>1984.806437</td>\n",
       "    </tr>\n",
       "    <tr>\n",
       "      <th>std</th>\n",
       "      <td>1794.389780</td>\n",
       "      <td>111.778864</td>\n",
       "      <td>0.099581</td>\n",
       "      <td>0.117097</td>\n",
       "      <td>111.515131</td>\n",
       "      <td>0.099490</td>\n",
       "      <td>0.116673</td>\n",
       "      <td>1664.383394</td>\n",
       "      <td>10.116689</td>\n",
       "    </tr>\n",
       "    <tr>\n",
       "      <th>min</th>\n",
       "      <td>61.000000</td>\n",
       "      <td>3.000000</td>\n",
       "      <td>37.317298</td>\n",
       "      <td>-122.453704</td>\n",
       "      <td>3.000000</td>\n",
       "      <td>37.317298</td>\n",
       "      <td>-122.453704</td>\n",
       "      <td>11.000000</td>\n",
       "      <td>1878.000000</td>\n",
       "    </tr>\n",
       "    <tr>\n",
       "      <th>25%</th>\n",
       "      <td>325.000000</td>\n",
       "      <td>47.000000</td>\n",
       "      <td>37.770083</td>\n",
       "      <td>-122.412408</td>\n",
       "      <td>44.000000</td>\n",
       "      <td>37.770407</td>\n",
       "      <td>-122.411726</td>\n",
       "      <td>3777.000000</td>\n",
       "      <td>1980.000000</td>\n",
       "    </tr>\n",
       "    <tr>\n",
       "      <th>50%</th>\n",
       "      <td>514.000000</td>\n",
       "      <td>104.000000</td>\n",
       "      <td>37.780760</td>\n",
       "      <td>-122.398285</td>\n",
       "      <td>100.000000</td>\n",
       "      <td>37.781010</td>\n",
       "      <td>-122.398279</td>\n",
       "      <td>4958.000000</td>\n",
       "      <td>1987.000000</td>\n",
       "    </tr>\n",
       "    <tr>\n",
       "      <th>75%</th>\n",
       "      <td>796.000000</td>\n",
       "      <td>239.000000</td>\n",
       "      <td>37.797280</td>\n",
       "      <td>-122.286533</td>\n",
       "      <td>235.000000</td>\n",
       "      <td>37.797320</td>\n",
       "      <td>-122.288045</td>\n",
       "      <td>5502.000000</td>\n",
       "      <td>1992.000000</td>\n",
       "    </tr>\n",
       "    <tr>\n",
       "      <th>max</th>\n",
       "      <td>85444.000000</td>\n",
       "      <td>398.000000</td>\n",
       "      <td>37.880222</td>\n",
       "      <td>-121.874119</td>\n",
       "      <td>398.000000</td>\n",
       "      <td>37.880222</td>\n",
       "      <td>-121.874119</td>\n",
       "      <td>6645.000000</td>\n",
       "      <td>2001.000000</td>\n",
       "    </tr>\n",
       "  </tbody>\n",
       "</table>\n",
       "</div>"
      ],
      "text/plain": [
       "        duration_sec  start_station_id  start_station_latitude  \\\n",
       "count  183412.000000     183215.000000           183412.000000   \n",
       "mean      726.078435        138.590427               37.771223   \n",
       "std      1794.389780        111.778864                0.099581   \n",
       "min        61.000000          3.000000               37.317298   \n",
       "25%       325.000000         47.000000               37.770083   \n",
       "50%       514.000000        104.000000               37.780760   \n",
       "75%       796.000000        239.000000               37.797280   \n",
       "max     85444.000000        398.000000               37.880222   \n",
       "\n",
       "       start_station_longitude  end_station_id  end_station_latitude  \\\n",
       "count            183412.000000   183215.000000         183412.000000   \n",
       "mean               -122.352664      136.249123             37.771427   \n",
       "std                   0.117097      111.515131              0.099490   \n",
       "min                -122.453704        3.000000             37.317298   \n",
       "25%                -122.412408       44.000000             37.770407   \n",
       "50%                -122.398285      100.000000             37.781010   \n",
       "75%                -122.286533      235.000000             37.797320   \n",
       "max                -121.874119      398.000000             37.880222   \n",
       "\n",
       "       end_station_longitude        bike_id  member_birth_year  \n",
       "count          183412.000000  183412.000000      175147.000000  \n",
       "mean             -122.352250    4472.906375        1984.806437  \n",
       "std                 0.116673    1664.383394          10.116689  \n",
       "min              -122.453704      11.000000        1878.000000  \n",
       "25%              -122.411726    3777.000000        1980.000000  \n",
       "50%              -122.398279    4958.000000        1987.000000  \n",
       "75%              -122.288045    5502.000000        1992.000000  \n",
       "max              -121.874119    6645.000000        2001.000000  "
      ]
     },
     "execution_count": 5,
     "metadata": {},
     "output_type": "execute_result"
    }
   ],
   "source": [
    "df.describe()"
   ]
  },
  {
   "cell_type": "markdown",
   "metadata": {
    "slideshow": {
     "slide_type": "skip"
    }
   },
   "source": [
    "1. minimum value of `member_birth_year` is 1878 and this is not possible\n",
    "2. the maximum value of `duration_sec` translates to 23 hours which is odd but i'm not gonna drop this observation"
   ]
  },
  {
   "cell_type": "code",
   "execution_count": 6,
   "metadata": {
    "scrolled": true,
    "slideshow": {
     "slide_type": "skip"
    }
   },
   "outputs": [
    {
     "data": {
      "text/plain": [
       "duration_sec                  0\n",
       "start_time                    0\n",
       "end_time                      0\n",
       "start_station_id            197\n",
       "start_station_name          197\n",
       "start_station_latitude        0\n",
       "start_station_longitude       0\n",
       "end_station_id              197\n",
       "end_station_name            197\n",
       "end_station_latitude          0\n",
       "end_station_longitude         0\n",
       "bike_id                       0\n",
       "user_type                     0\n",
       "member_birth_year          8265\n",
       "member_gender              8265\n",
       "bike_share_for_all_trip       0\n",
       "dtype: int64"
      ]
     },
     "execution_count": 6,
     "metadata": {},
     "output_type": "execute_result"
    }
   ],
   "source": [
    "# alot of null values in `member_birth_year` and `member_gender` specifically 8265 rows\n",
    "# 8265 rows missing in start_station_name and id and end stations\n",
    "df.isnull().sum()"
   ]
  },
  {
   "cell_type": "code",
   "execution_count": 7,
   "metadata": {
    "slideshow": {
     "slide_type": "skip"
    }
   },
   "outputs": [
    {
     "data": {
      "text/plain": [
       "Subscriber    163544\n",
       "Customer       19868\n",
       "Name: user_type, dtype: int64"
      ]
     },
     "execution_count": 7,
     "metadata": {},
     "output_type": "execute_result"
    }
   ],
   "source": [
    "# the vast majority of members are subscribers\n",
    "df['user_type'].value_counts()"
   ]
  },
  {
   "cell_type": "code",
   "execution_count": 8,
   "metadata": {
    "slideshow": {
     "slide_type": "skip"
    }
   },
   "outputs": [
    {
     "data": {
      "text/plain": [
       "Male      130651\n",
       "Female     40844\n",
       "Other       3652\n",
       "Name: member_gender, dtype: int64"
      ]
     },
     "execution_count": 8,
     "metadata": {},
     "output_type": "execute_result"
    }
   ],
   "source": [
    "# mostly Males and 3652 are 'Other' we will keep these records as they are\n",
    "df['member_gender'].value_counts()"
   ]
  },
  {
   "cell_type": "markdown",
   "metadata": {
    "slideshow": {
     "slide_type": "skip"
    }
   },
   "source": [
    "### Quality issues found\n",
    "\n",
    "1. `start_time` , `end_time` should be date\n",
    "\n",
    "2. `start_station_id`, `end_station_id` should be int\n",
    "\n",
    "3. `member_birth_year` should be int\n",
    "\n",
    "4. `bike_id` should be int\n",
    "\n",
    "5. `user_type` should be category\n",
    "\n",
    "6. `bike_share_for_all_trip` should be category\n",
    "\n",
    "7. there are 203 rows where `member_birth_date` is less than 1945\n",
    "\n",
    "8. 197 missing value for `start_station_id`, `start_station_name`, `end_station_id`, `end_station_name`\n",
    "\n",
    "9. 8265 missing value for `member_birth_date` and `member_gender`"
   ]
  },
  {
   "cell_type": "markdown",
   "metadata": {
    "slideshow": {
     "slide_type": "skip"
    }
   },
   "source": [
    "### Tidiness\n",
    "\n",
    "1. create a separate columns for month, day, and time."
   ]
  },
  {
   "cell_type": "markdown",
   "metadata": {
    "slideshow": {
     "slide_type": "skip"
    }
   },
   "source": [
    "## Now we will start cleaning"
   ]
  },
  {
   "cell_type": "code",
   "execution_count": 9,
   "metadata": {
    "slideshow": {
     "slide_type": "skip"
    }
   },
   "outputs": [],
   "source": [
    "# as always start by copying the dataframe\n",
    "df_clean = df.copy()"
   ]
  },
  {
   "cell_type": "code",
   "execution_count": 10,
   "metadata": {
    "slideshow": {
     "slide_type": "skip"
    }
   },
   "outputs": [],
   "source": [
    "#Fixing columns that have wrong data types\n",
    "df_clean['start_time']    = df_clean['start_time'].astype('datetime64[ns]')\n",
    "df_clean['end_time']      = df_clean['end_time'].astype('datetime64[ns]')\n",
    "df_clean['bike_id']       = df_clean['bike_id'].astype(int)\n",
    "df_clean['user_type']     = df_clean['user_type'].astype('category')\n",
    "df_clean['member_gender'] = df_clean['member_gender'].astype('category')"
   ]
  },
  {
   "cell_type": "code",
   "execution_count": 11,
   "metadata": {
    "slideshow": {
     "slide_type": "skip"
    }
   },
   "outputs": [
    {
     "name": "stdout",
     "output_type": "stream",
     "text": [
      "<class 'pandas.core.frame.DataFrame'>\n",
      "RangeIndex: 183412 entries, 0 to 183411\n",
      "Data columns (total 16 columns):\n",
      " #   Column                   Non-Null Count   Dtype         \n",
      "---  ------                   --------------   -----         \n",
      " 0   duration_sec             183412 non-null  int64         \n",
      " 1   start_time               183412 non-null  datetime64[ns]\n",
      " 2   end_time                 183412 non-null  datetime64[ns]\n",
      " 3   start_station_id         183215 non-null  float64       \n",
      " 4   start_station_name       183215 non-null  object        \n",
      " 5   start_station_latitude   183412 non-null  float64       \n",
      " 6   start_station_longitude  183412 non-null  float64       \n",
      " 7   end_station_id           183215 non-null  float64       \n",
      " 8   end_station_name         183215 non-null  object        \n",
      " 9   end_station_latitude     183412 non-null  float64       \n",
      " 10  end_station_longitude    183412 non-null  float64       \n",
      " 11  bike_id                  183412 non-null  int64         \n",
      " 12  user_type                183412 non-null  category      \n",
      " 13  member_birth_year        175147 non-null  float64       \n",
      " 14  member_gender            175147 non-null  category      \n",
      " 15  bike_share_for_all_trip  183412 non-null  object        \n",
      "dtypes: category(2), datetime64[ns](2), float64(7), int64(2), object(3)\n",
      "memory usage: 19.9+ MB\n"
     ]
    }
   ],
   "source": [
    "df_clean.info()"
   ]
  },
  {
   "cell_type": "code",
   "execution_count": 12,
   "metadata": {
    "slideshow": {
     "slide_type": "skip"
    }
   },
   "outputs": [],
   "source": [
    "# Dropping records with missing member birth year\n",
    "df_clean = df_clean[pd.notnull(df_clean['member_birth_year'])]"
   ]
  },
  {
   "cell_type": "code",
   "execution_count": 13,
   "metadata": {
    "slideshow": {
     "slide_type": "skip"
    }
   },
   "outputs": [
    {
     "data": {
      "text/plain": [
       "0"
      ]
     },
     "execution_count": 13,
     "metadata": {},
     "output_type": "execute_result"
    }
   ],
   "source": [
    "df_clean['member_birth_year'].isnull().sum()"
   ]
  },
  {
   "cell_type": "code",
   "execution_count": 14,
   "metadata": {
    "slideshow": {
     "slide_type": "skip"
    }
   },
   "outputs": [],
   "source": [
    "# Changing the type of column for member birth year to integer\n",
    "df_clean['member_birth_year'] = df_clean['member_birth_year'].astype(int)"
   ]
  },
  {
   "cell_type": "code",
   "execution_count": 15,
   "metadata": {
    "slideshow": {
     "slide_type": "skip"
    }
   },
   "outputs": [
    {
     "data": {
      "text/plain": [
       "117588    1985\n",
       "181578    1992\n",
       "45028     1985\n",
       "Name: member_birth_year, dtype: int64"
      ]
     },
     "execution_count": 15,
     "metadata": {},
     "output_type": "execute_result"
    }
   ],
   "source": [
    "# Making sure it is integer\n",
    "df_clean['member_birth_year'].sample(3)"
   ]
  },
  {
   "cell_type": "code",
   "execution_count": 16,
   "metadata": {
    "slideshow": {
     "slide_type": "skip"
    }
   },
   "outputs": [],
   "source": [
    "# Dropping records with missing start_station_name\n",
    "df_clean = df_clean[pd.notnull(df_clean['start_station_name'])]"
   ]
  },
  {
   "cell_type": "code",
   "execution_count": 17,
   "metadata": {
    "slideshow": {
     "slide_type": "skip"
    }
   },
   "outputs": [
    {
     "name": "stdout",
     "output_type": "stream",
     "text": [
      "<class 'pandas.core.frame.DataFrame'>\n",
      "Int64Index: 174952 entries, 0 to 183411\n",
      "Data columns (total 16 columns):\n",
      " #   Column                   Non-Null Count   Dtype         \n",
      "---  ------                   --------------   -----         \n",
      " 0   duration_sec             174952 non-null  int64         \n",
      " 1   start_time               174952 non-null  datetime64[ns]\n",
      " 2   end_time                 174952 non-null  datetime64[ns]\n",
      " 3   start_station_id         174952 non-null  float64       \n",
      " 4   start_station_name       174952 non-null  object        \n",
      " 5   start_station_latitude   174952 non-null  float64       \n",
      " 6   start_station_longitude  174952 non-null  float64       \n",
      " 7   end_station_id           174952 non-null  float64       \n",
      " 8   end_station_name         174952 non-null  object        \n",
      " 9   end_station_latitude     174952 non-null  float64       \n",
      " 10  end_station_longitude    174952 non-null  float64       \n",
      " 11  bike_id                  174952 non-null  int64         \n",
      " 12  user_type                174952 non-null  category      \n",
      " 13  member_birth_year        174952 non-null  int64         \n",
      " 14  member_gender            174952 non-null  category      \n",
      " 15  bike_share_for_all_trip  174952 non-null  object        \n",
      "dtypes: category(2), datetime64[ns](2), float64(6), int64(3), object(3)\n",
      "memory usage: 20.4+ MB\n"
     ]
    }
   ],
   "source": [
    "df_clean.info()"
   ]
  },
  {
   "cell_type": "code",
   "execution_count": 18,
   "metadata": {
    "slideshow": {
     "slide_type": "skip"
    }
   },
   "outputs": [],
   "source": [
    "# Now I will create columns for month, day, and hour\n",
    "#create date, day,time column\n",
    "df_clean['trip_month']  = df_clean.start_time.dt.strftime('%b')\n",
    "df_clean['trip_day']    = df_clean.start_time.dt.strftime('%a')\n",
    "df_clean['trip_hour']   = df_clean.start_time.dt.strftime('%H')"
   ]
  },
  {
   "cell_type": "markdown",
   "metadata": {
    "slideshow": {
     "slide_type": "skip"
    }
   },
   "source": [
    "### converting 3 column dtypes to int using lambda function and a for loop to prevent repetitive code"
   ]
  },
  {
   "cell_type": "code",
   "execution_count": 19,
   "metadata": {
    "slideshow": {
     "slide_type": "skip"
    }
   },
   "outputs": [],
   "source": [
    "columns_to_int = ['trip_hour', 'start_station_id', 'end_station_id']\n",
    "\n",
    "for column in columns_to_int:\n",
    "    df_clean[column] = df_clean[column].astype(int)"
   ]
  },
  {
   "cell_type": "code",
   "execution_count": 20,
   "metadata": {
    "slideshow": {
     "slide_type": "skip"
    }
   },
   "outputs": [
    {
     "name": "stdout",
     "output_type": "stream",
     "text": [
      "<class 'pandas.core.series.Series'>\n",
      "Int64Index: 174952 entries, 0 to 183411\n",
      "Series name: end_station_id\n",
      "Non-Null Count   Dtype\n",
      "--------------   -----\n",
      "174952 non-null  int64\n",
      "dtypes: int64(1)\n",
      "memory usage: 2.7 MB\n"
     ]
    }
   ],
   "source": [
    "df_clean['end_station_id'].info()"
   ]
  },
  {
   "cell_type": "code",
   "execution_count": 21,
   "metadata": {
    "slideshow": {
     "slide_type": "skip"
    }
   },
   "outputs": [
    {
     "data": {
      "text/html": [
       "<div>\n",
       "<style scoped>\n",
       "    .dataframe tbody tr th:only-of-type {\n",
       "        vertical-align: middle;\n",
       "    }\n",
       "\n",
       "    .dataframe tbody tr th {\n",
       "        vertical-align: top;\n",
       "    }\n",
       "\n",
       "    .dataframe thead th {\n",
       "        text-align: right;\n",
       "    }\n",
       "</style>\n",
       "<table border=\"1\" class=\"dataframe\">\n",
       "  <thead>\n",
       "    <tr style=\"text-align: right;\">\n",
       "      <th></th>\n",
       "      <th>duration_sec</th>\n",
       "      <th>start_time</th>\n",
       "      <th>end_time</th>\n",
       "      <th>start_station_id</th>\n",
       "      <th>start_station_name</th>\n",
       "      <th>start_station_latitude</th>\n",
       "      <th>start_station_longitude</th>\n",
       "      <th>end_station_id</th>\n",
       "      <th>end_station_name</th>\n",
       "      <th>end_station_latitude</th>\n",
       "      <th>end_station_longitude</th>\n",
       "      <th>bike_id</th>\n",
       "      <th>user_type</th>\n",
       "      <th>member_birth_year</th>\n",
       "      <th>member_gender</th>\n",
       "      <th>bike_share_for_all_trip</th>\n",
       "      <th>trip_month</th>\n",
       "      <th>trip_day</th>\n",
       "      <th>trip_hour</th>\n",
       "    </tr>\n",
       "  </thead>\n",
       "  <tbody>\n",
       "    <tr>\n",
       "      <th>0</th>\n",
       "      <td>52185</td>\n",
       "      <td>2019-02-28 17:32:10.145</td>\n",
       "      <td>2019-03-01 08:01:55.975</td>\n",
       "      <td>21</td>\n",
       "      <td>Montgomery St BART Station (Market St at 2nd St)</td>\n",
       "      <td>37.789625</td>\n",
       "      <td>-122.400811</td>\n",
       "      <td>13</td>\n",
       "      <td>Commercial St at Montgomery St</td>\n",
       "      <td>37.794231</td>\n",
       "      <td>-122.402923</td>\n",
       "      <td>4902</td>\n",
       "      <td>Customer</td>\n",
       "      <td>1984</td>\n",
       "      <td>Male</td>\n",
       "      <td>No</td>\n",
       "      <td>Feb</td>\n",
       "      <td>Thu</td>\n",
       "      <td>17</td>\n",
       "    </tr>\n",
       "    <tr>\n",
       "      <th>2</th>\n",
       "      <td>61854</td>\n",
       "      <td>2019-02-28 12:13:13.218</td>\n",
       "      <td>2019-03-01 05:24:08.146</td>\n",
       "      <td>86</td>\n",
       "      <td>Market St at Dolores St</td>\n",
       "      <td>37.769305</td>\n",
       "      <td>-122.426826</td>\n",
       "      <td>3</td>\n",
       "      <td>Powell St BART Station (Market St at 4th St)</td>\n",
       "      <td>37.786375</td>\n",
       "      <td>-122.404904</td>\n",
       "      <td>5905</td>\n",
       "      <td>Customer</td>\n",
       "      <td>1972</td>\n",
       "      <td>Male</td>\n",
       "      <td>No</td>\n",
       "      <td>Feb</td>\n",
       "      <td>Thu</td>\n",
       "      <td>12</td>\n",
       "    </tr>\n",
       "    <tr>\n",
       "      <th>3</th>\n",
       "      <td>36490</td>\n",
       "      <td>2019-02-28 17:54:26.010</td>\n",
       "      <td>2019-03-01 04:02:36.842</td>\n",
       "      <td>375</td>\n",
       "      <td>Grove St at Masonic Ave</td>\n",
       "      <td>37.774836</td>\n",
       "      <td>-122.446546</td>\n",
       "      <td>70</td>\n",
       "      <td>Central Ave at Fell St</td>\n",
       "      <td>37.773311</td>\n",
       "      <td>-122.444293</td>\n",
       "      <td>6638</td>\n",
       "      <td>Subscriber</td>\n",
       "      <td>1989</td>\n",
       "      <td>Other</td>\n",
       "      <td>No</td>\n",
       "      <td>Feb</td>\n",
       "      <td>Thu</td>\n",
       "      <td>17</td>\n",
       "    </tr>\n",
       "    <tr>\n",
       "      <th>4</th>\n",
       "      <td>1585</td>\n",
       "      <td>2019-02-28 23:54:18.549</td>\n",
       "      <td>2019-03-01 00:20:44.074</td>\n",
       "      <td>7</td>\n",
       "      <td>Frank H Ogawa Plaza</td>\n",
       "      <td>37.804562</td>\n",
       "      <td>-122.271738</td>\n",
       "      <td>222</td>\n",
       "      <td>10th Ave at E 15th St</td>\n",
       "      <td>37.792714</td>\n",
       "      <td>-122.248780</td>\n",
       "      <td>4898</td>\n",
       "      <td>Subscriber</td>\n",
       "      <td>1974</td>\n",
       "      <td>Male</td>\n",
       "      <td>Yes</td>\n",
       "      <td>Feb</td>\n",
       "      <td>Thu</td>\n",
       "      <td>23</td>\n",
       "    </tr>\n",
       "    <tr>\n",
       "      <th>5</th>\n",
       "      <td>1793</td>\n",
       "      <td>2019-02-28 23:49:58.632</td>\n",
       "      <td>2019-03-01 00:19:51.760</td>\n",
       "      <td>93</td>\n",
       "      <td>4th St at Mission Bay Blvd S</td>\n",
       "      <td>37.770407</td>\n",
       "      <td>-122.391198</td>\n",
       "      <td>323</td>\n",
       "      <td>Broadway at Kearny</td>\n",
       "      <td>37.798014</td>\n",
       "      <td>-122.405950</td>\n",
       "      <td>5200</td>\n",
       "      <td>Subscriber</td>\n",
       "      <td>1959</td>\n",
       "      <td>Male</td>\n",
       "      <td>No</td>\n",
       "      <td>Feb</td>\n",
       "      <td>Thu</td>\n",
       "      <td>23</td>\n",
       "    </tr>\n",
       "  </tbody>\n",
       "</table>\n",
       "</div>"
      ],
      "text/plain": [
       "   duration_sec              start_time                end_time  \\\n",
       "0         52185 2019-02-28 17:32:10.145 2019-03-01 08:01:55.975   \n",
       "2         61854 2019-02-28 12:13:13.218 2019-03-01 05:24:08.146   \n",
       "3         36490 2019-02-28 17:54:26.010 2019-03-01 04:02:36.842   \n",
       "4          1585 2019-02-28 23:54:18.549 2019-03-01 00:20:44.074   \n",
       "5          1793 2019-02-28 23:49:58.632 2019-03-01 00:19:51.760   \n",
       "\n",
       "   start_station_id                                start_station_name  \\\n",
       "0                21  Montgomery St BART Station (Market St at 2nd St)   \n",
       "2                86                           Market St at Dolores St   \n",
       "3               375                           Grove St at Masonic Ave   \n",
       "4                 7                               Frank H Ogawa Plaza   \n",
       "5                93                      4th St at Mission Bay Blvd S   \n",
       "\n",
       "   start_station_latitude  start_station_longitude  end_station_id  \\\n",
       "0               37.789625              -122.400811              13   \n",
       "2               37.769305              -122.426826               3   \n",
       "3               37.774836              -122.446546              70   \n",
       "4               37.804562              -122.271738             222   \n",
       "5               37.770407              -122.391198             323   \n",
       "\n",
       "                               end_station_name  end_station_latitude  \\\n",
       "0                Commercial St at Montgomery St             37.794231   \n",
       "2  Powell St BART Station (Market St at 4th St)             37.786375   \n",
       "3                        Central Ave at Fell St             37.773311   \n",
       "4                         10th Ave at E 15th St             37.792714   \n",
       "5                            Broadway at Kearny             37.798014   \n",
       "\n",
       "   end_station_longitude  bike_id   user_type  member_birth_year  \\\n",
       "0            -122.402923     4902    Customer               1984   \n",
       "2            -122.404904     5905    Customer               1972   \n",
       "3            -122.444293     6638  Subscriber               1989   \n",
       "4            -122.248780     4898  Subscriber               1974   \n",
       "5            -122.405950     5200  Subscriber               1959   \n",
       "\n",
       "  member_gender bike_share_for_all_trip trip_month trip_day  trip_hour  \n",
       "0          Male                      No        Feb      Thu         17  \n",
       "2          Male                      No        Feb      Thu         12  \n",
       "3         Other                      No        Feb      Thu         17  \n",
       "4          Male                     Yes        Feb      Thu         23  \n",
       "5          Male                      No        Feb      Thu         23  "
      ]
     },
     "execution_count": 21,
     "metadata": {},
     "output_type": "execute_result"
    }
   ],
   "source": [
    "# Checking our dataframe\n",
    "df_clean.head()"
   ]
  },
  {
   "cell_type": "code",
   "execution_count": 22,
   "metadata": {
    "slideshow": {
     "slide_type": "skip"
    }
   },
   "outputs": [],
   "source": [
    "# creating Age column for visualizations\n",
    "df_clean['age'] = 2022 - df_clean['member_birth_year']"
   ]
  },
  {
   "cell_type": "code",
   "execution_count": 23,
   "metadata": {
    "slideshow": {
     "slide_type": "skip"
    }
   },
   "outputs": [],
   "source": [
    "#let's create a column for minutes\n",
    "df_clean['trip_minute'] = df_clean['duration_sec'] / 60"
   ]
  },
  {
   "cell_type": "code",
   "execution_count": 24,
   "metadata": {
    "slideshow": {
     "slide_type": "skip"
    }
   },
   "outputs": [
    {
     "data": {
      "text/html": [
       "<div>\n",
       "<style scoped>\n",
       "    .dataframe tbody tr th:only-of-type {\n",
       "        vertical-align: middle;\n",
       "    }\n",
       "\n",
       "    .dataframe tbody tr th {\n",
       "        vertical-align: top;\n",
       "    }\n",
       "\n",
       "    .dataframe thead th {\n",
       "        text-align: right;\n",
       "    }\n",
       "</style>\n",
       "<table border=\"1\" class=\"dataframe\">\n",
       "  <thead>\n",
       "    <tr style=\"text-align: right;\">\n",
       "      <th></th>\n",
       "      <th>duration_sec</th>\n",
       "      <th>start_time</th>\n",
       "      <th>end_time</th>\n",
       "      <th>start_station_id</th>\n",
       "      <th>start_station_name</th>\n",
       "      <th>start_station_latitude</th>\n",
       "      <th>start_station_longitude</th>\n",
       "      <th>end_station_id</th>\n",
       "      <th>end_station_name</th>\n",
       "      <th>end_station_latitude</th>\n",
       "      <th>...</th>\n",
       "      <th>bike_id</th>\n",
       "      <th>user_type</th>\n",
       "      <th>member_birth_year</th>\n",
       "      <th>member_gender</th>\n",
       "      <th>bike_share_for_all_trip</th>\n",
       "      <th>trip_month</th>\n",
       "      <th>trip_day</th>\n",
       "      <th>trip_hour</th>\n",
       "      <th>age</th>\n",
       "      <th>trip_minute</th>\n",
       "    </tr>\n",
       "  </thead>\n",
       "  <tbody>\n",
       "    <tr>\n",
       "      <th>180470</th>\n",
       "      <td>562</td>\n",
       "      <td>2019-02-01 10:56:55.748</td>\n",
       "      <td>2019-02-01 11:06:18.307</td>\n",
       "      <td>24</td>\n",
       "      <td>Spear St at Folsom St</td>\n",
       "      <td>37.789677</td>\n",
       "      <td>-122.390428</td>\n",
       "      <td>3</td>\n",
       "      <td>Powell St BART Station (Market St at 4th St)</td>\n",
       "      <td>37.786375</td>\n",
       "      <td>...</td>\n",
       "      <td>5502</td>\n",
       "      <td>Subscriber</td>\n",
       "      <td>1974</td>\n",
       "      <td>Female</td>\n",
       "      <td>Yes</td>\n",
       "      <td>Feb</td>\n",
       "      <td>Fri</td>\n",
       "      <td>10</td>\n",
       "      <td>48</td>\n",
       "      <td>9.366667</td>\n",
       "    </tr>\n",
       "    <tr>\n",
       "      <th>165398</th>\n",
       "      <td>195</td>\n",
       "      <td>2019-02-05 07:16:25.560</td>\n",
       "      <td>2019-02-05 07:19:41.228</td>\n",
       "      <td>355</td>\n",
       "      <td>23rd St at Tennessee St</td>\n",
       "      <td>37.755367</td>\n",
       "      <td>-122.388795</td>\n",
       "      <td>130</td>\n",
       "      <td>22nd St Caltrain Station</td>\n",
       "      <td>37.757288</td>\n",
       "      <td>...</td>\n",
       "      <td>1282</td>\n",
       "      <td>Subscriber</td>\n",
       "      <td>1976</td>\n",
       "      <td>Male</td>\n",
       "      <td>No</td>\n",
       "      <td>Feb</td>\n",
       "      <td>Tue</td>\n",
       "      <td>7</td>\n",
       "      <td>46</td>\n",
       "      <td>3.250000</td>\n",
       "    </tr>\n",
       "    <tr>\n",
       "      <th>165044</th>\n",
       "      <td>450</td>\n",
       "      <td>2019-02-05 07:50:06.290</td>\n",
       "      <td>2019-02-05 07:57:36.699</td>\n",
       "      <td>219</td>\n",
       "      <td>Marston Campbell Park</td>\n",
       "      <td>37.809824</td>\n",
       "      <td>-122.280192</td>\n",
       "      <td>160</td>\n",
       "      <td>West Oakland BART Station</td>\n",
       "      <td>37.805318</td>\n",
       "      <td>...</td>\n",
       "      <td>3464</td>\n",
       "      <td>Subscriber</td>\n",
       "      <td>1975</td>\n",
       "      <td>Female</td>\n",
       "      <td>No</td>\n",
       "      <td>Feb</td>\n",
       "      <td>Tue</td>\n",
       "      <td>7</td>\n",
       "      <td>47</td>\n",
       "      <td>7.500000</td>\n",
       "    </tr>\n",
       "    <tr>\n",
       "      <th>165794</th>\n",
       "      <td>475</td>\n",
       "      <td>2019-02-04 22:11:28.636</td>\n",
       "      <td>2019-02-04 22:19:24.581</td>\n",
       "      <td>104</td>\n",
       "      <td>4th St at 16th St</td>\n",
       "      <td>37.767045</td>\n",
       "      <td>-122.390833</td>\n",
       "      <td>125</td>\n",
       "      <td>20th St at Bryant St</td>\n",
       "      <td>37.759200</td>\n",
       "      <td>...</td>\n",
       "      <td>5319</td>\n",
       "      <td>Subscriber</td>\n",
       "      <td>1991</td>\n",
       "      <td>Male</td>\n",
       "      <td>No</td>\n",
       "      <td>Feb</td>\n",
       "      <td>Mon</td>\n",
       "      <td>22</td>\n",
       "      <td>31</td>\n",
       "      <td>7.916667</td>\n",
       "    </tr>\n",
       "    <tr>\n",
       "      <th>139913</th>\n",
       "      <td>895</td>\n",
       "      <td>2019-02-07 19:54:32.772</td>\n",
       "      <td>2019-02-07 20:09:28.629</td>\n",
       "      <td>93</td>\n",
       "      <td>4th St at Mission Bay Blvd S</td>\n",
       "      <td>37.770407</td>\n",
       "      <td>-122.391198</td>\n",
       "      <td>15</td>\n",
       "      <td>San Francisco Ferry Building (Harry Bridges Pl...</td>\n",
       "      <td>37.795392</td>\n",
       "      <td>...</td>\n",
       "      <td>1044</td>\n",
       "      <td>Subscriber</td>\n",
       "      <td>1991</td>\n",
       "      <td>Female</td>\n",
       "      <td>No</td>\n",
       "      <td>Feb</td>\n",
       "      <td>Thu</td>\n",
       "      <td>19</td>\n",
       "      <td>31</td>\n",
       "      <td>14.916667</td>\n",
       "    </tr>\n",
       "  </tbody>\n",
       "</table>\n",
       "<p>5 rows × 21 columns</p>\n",
       "</div>"
      ],
      "text/plain": [
       "        duration_sec              start_time                end_time  \\\n",
       "180470           562 2019-02-01 10:56:55.748 2019-02-01 11:06:18.307   \n",
       "165398           195 2019-02-05 07:16:25.560 2019-02-05 07:19:41.228   \n",
       "165044           450 2019-02-05 07:50:06.290 2019-02-05 07:57:36.699   \n",
       "165794           475 2019-02-04 22:11:28.636 2019-02-04 22:19:24.581   \n",
       "139913           895 2019-02-07 19:54:32.772 2019-02-07 20:09:28.629   \n",
       "\n",
       "        start_station_id            start_station_name  \\\n",
       "180470                24         Spear St at Folsom St   \n",
       "165398               355       23rd St at Tennessee St   \n",
       "165044               219         Marston Campbell Park   \n",
       "165794               104             4th St at 16th St   \n",
       "139913                93  4th St at Mission Bay Blvd S   \n",
       "\n",
       "        start_station_latitude  start_station_longitude  end_station_id  \\\n",
       "180470               37.789677              -122.390428               3   \n",
       "165398               37.755367              -122.388795             130   \n",
       "165044               37.809824              -122.280192             160   \n",
       "165794               37.767045              -122.390833             125   \n",
       "139913               37.770407              -122.391198              15   \n",
       "\n",
       "                                         end_station_name  \\\n",
       "180470       Powell St BART Station (Market St at 4th St)   \n",
       "165398                           22nd St Caltrain Station   \n",
       "165044                          West Oakland BART Station   \n",
       "165794                               20th St at Bryant St   \n",
       "139913  San Francisco Ferry Building (Harry Bridges Pl...   \n",
       "\n",
       "        end_station_latitude  ...  bike_id   user_type member_birth_year  \\\n",
       "180470             37.786375  ...     5502  Subscriber              1974   \n",
       "165398             37.757288  ...     1282  Subscriber              1976   \n",
       "165044             37.805318  ...     3464  Subscriber              1975   \n",
       "165794             37.759200  ...     5319  Subscriber              1991   \n",
       "139913             37.795392  ...     1044  Subscriber              1991   \n",
       "\n",
       "        member_gender bike_share_for_all_trip trip_month trip_day trip_hour  \\\n",
       "180470         Female                     Yes        Feb      Fri        10   \n",
       "165398           Male                      No        Feb      Tue         7   \n",
       "165044         Female                      No        Feb      Tue         7   \n",
       "165794           Male                      No        Feb      Mon        22   \n",
       "139913         Female                      No        Feb      Thu        19   \n",
       "\n",
       "        age  trip_minute  \n",
       "180470   48     9.366667  \n",
       "165398   46     3.250000  \n",
       "165044   47     7.500000  \n",
       "165794   31     7.916667  \n",
       "139913   31    14.916667  \n",
       "\n",
       "[5 rows x 21 columns]"
      ]
     },
     "execution_count": 24,
     "metadata": {},
     "output_type": "execute_result"
    }
   ],
   "source": [
    "df_clean.sample(5)"
   ]
  },
  {
   "cell_type": "markdown",
   "metadata": {
    "slideshow": {
     "slide_type": "slide"
    }
   },
   "source": [
    "# Univariate Exploration"
   ]
  },
  {
   "cell_type": "markdown",
   "metadata": {
    "slideshow": {
     "slide_type": "slide"
    }
   },
   "source": [
    "## PieChart of User Distribution"
   ]
  },
  {
   "cell_type": "code",
   "execution_count": 25,
   "metadata": {
    "slideshow": {
     "slide_type": "subslide"
    }
   },
   "outputs": [
    {
     "data": {
      "image/png": "[encoded data removed]",
      "text/plain": [
       "<Figure size 432x288 with 1 Axes>"
      ]
     },
     "metadata": {},
     "output_type": "display_data"
    }
   ],
   "source": [
    "user_category = df_clean['user_type'].value_counts()\n",
    "\n",
    "\n",
    "plt.pie(user_category, explode=(0, 0.2),\n",
    "        labels = user_category.index, startangle = 120, autopct='%1.1f%%');\n",
    "plt.axis('square');"
   ]
  },
  {
   "cell_type": "markdown",
   "metadata": {
    "slideshow": {
     "slide_type": "subslide"
    }
   },
   "source": [
    "> Most users are  subscribers (90.5% of total users) who are using the program more than actual customers who represents only 9.5% of total users."
   ]
  },
  {
   "cell_type": "markdown",
   "metadata": {
    "slideshow": {
     "slide_type": "skip"
    }
   },
   "source": [
    "## Function to prevent repetitve coding"
   ]
  },
  {
   "cell_type": "code",
   "execution_count": 45,
   "metadata": {
    "slideshow": {
     "slide_type": "skip"
    }
   },
   "outputs": [],
   "source": [
    "def label(x, y, t):\n",
    "    \"\"\"\n",
    "    Args:\n",
    "    x (str): x-axis title\n",
    "    y (str): y-axis title\n",
    "    t (str): main title\n",
    "    \n",
    "    Returns:\n",
    "    None\n",
    "    \"\"\"\n",
    "    plt.xlabel(x)\n",
    "    plt.ylabel(y)\n",
    "    plt.title(t)\n",
    "    plt.show()"
   ]
  },
  {
   "cell_type": "markdown",
   "metadata": {
    "slideshow": {
     "slide_type": "slide"
    }
   },
   "source": [
    "# Histogram of Members birth year distribution"
   ]
  },
  {
   "cell_type": "code",
   "execution_count": 52,
   "metadata": {
    "slideshow": {
     "slide_type": "subslide"
    }
   },
   "outputs": [
    {
     "data": {
      "image/png": "[encoded data removed]",
      "text/plain": [
       "<Figure size 432x288 with 1 Axes>"
      ]
     },
     "metadata": {
      "needs_background": "light"
     },
     "output_type": "display_data"
    }
   ],
   "source": [
    "bins = np.arange(1946, df_clean['member_birth_year'].max()+10, 10)\n",
    "\n",
    "plt.hist(data = df_clean, x = 'member_birth_year', bins = bins)\n",
    "label(\"Birth Year\", \"Population\", \"Member Birth Year Distribution\")"
   ]
  },
  {
   "cell_type": "markdown",
   "metadata": {
    "slideshow": {
     "slide_type": "subslide"
    }
   },
   "source": [
    "> As we can see that most of the users birth years are from 1975 to 1995"
   ]
  },
  {
   "cell_type": "markdown",
   "metadata": {
    "slideshow": {
     "slide_type": "slide"
    }
   },
   "source": [
    "# Barchart of Gender"
   ]
  },
  {
   "cell_type": "code",
   "execution_count": 27,
   "metadata": {
    "slideshow": {
     "slide_type": "subslide"
    }
   },
   "outputs": [
    {
     "data": {
      "image/png": "[encoded data removed]",
      "text/plain": [
       "<Figure size 360x360 with 1 Axes>"
      ]
     },
     "metadata": {
      "needs_background": "light"
     },
     "output_type": "display_data"
    }
   ],
   "source": [
    "ax = sb.catplot(data=df_clean, x='member_gender', kind='count')\n",
    "ax.fig.suptitle('Member Gender Distribution', y = 1.07, fontsize = 18, fontweight = 'bold');"
   ]
  },
  {
   "cell_type": "markdown",
   "metadata": {
    "slideshow": {
     "slide_type": "subslide"
    }
   },
   "source": [
    "> From the barplot above we see the Males dominate this dataset and Females after, and the 'Other' are the lowest in bike usage"
   ]
  },
  {
   "cell_type": "markdown",
   "metadata": {
    "slideshow": {
     "slide_type": "slide"
    }
   },
   "source": [
    "# Daily Usage Barchart"
   ]
  },
  {
   "cell_type": "code",
   "execution_count": 28,
   "metadata": {
    "scrolled": false,
    "slideshow": {
     "slide_type": "subslide"
    }
   },
   "outputs": [
    {
     "data": {
      "image/png": "[encoded data removed]",
      "text/plain": [
       "<Figure size 360x360 with 1 Axes>"
      ]
     },
     "metadata": {
      "needs_background": "light"
     },
     "output_type": "display_data"
    }
   ],
   "source": [
    "#Ford GoBikes System Daily Usage\n",
    "ax = sb.catplot(data=df_clean, x='trip_day', kind='count')\n",
    "\n",
    "\n",
    "ax.fig.suptitle('Ford GoBikes Daily Usage', y = 1.07, fontsize = 18, fontweight = 'bold')\n",
    "ax.set_ylabels('Number of Trips');"
   ]
  },
  {
   "cell_type": "markdown",
   "metadata": {
    "slideshow": {
     "slide_type": "subslide"
    }
   },
   "source": [
    "> It looks like the number of trips in most days are between 25,000 and roughly 33,000 \n",
    "\n",
    "> except in Sunday and Saturday which are lower"
   ]
  },
  {
   "cell_type": "markdown",
   "metadata": {
    "slideshow": {
     "slide_type": "slide"
    }
   },
   "source": [
    "# Hourly Usage Distribution"
   ]
  },
  {
   "cell_type": "code",
   "execution_count": 29,
   "metadata": {
    "slideshow": {
     "slide_type": "subslide"
    }
   },
   "outputs": [
    {
     "data": {
      "image/png": "[encoded data removed]",
      "text/plain": [
       "<Figure size 576x360 with 1 Axes>"
      ]
     },
     "metadata": {
      "needs_background": "light"
     },
     "output_type": "display_data"
    }
   ],
   "source": [
    "ax = sb.catplot(data = df_clean, x='trip_hour', kind='count', aspect = 1.6)\n",
    "ax.set_axis_labels('Number of Hours', 'Number of Trips')\n",
    "\n",
    "\n",
    "ax.fig.suptitle('Ford GoBikes Hourly Usage', y=1.07, fontsize=16, fontweight='bold');"
   ]
  },
  {
   "cell_type": "markdown",
   "metadata": {
    "slideshow": {
     "slide_type": "subslide"
    }
   },
   "source": [
    "> From observing the peak-times of when users use the Ford GoBike System. The hours are mainly high between the morning from (8 AM) and in (17 and 18 which is 5 to 6 PM) in the afternoon."
   ]
  },
  {
   "cell_type": "code",
   "execution_count": 30,
   "metadata": {
    "slideshow": {
     "slide_type": "skip"
    }
   },
   "outputs": [
    {
     "data": {
      "text/html": [
       "<div>\n",
       "<style scoped>\n",
       "    .dataframe tbody tr th:only-of-type {\n",
       "        vertical-align: middle;\n",
       "    }\n",
       "\n",
       "    .dataframe tbody tr th {\n",
       "        vertical-align: top;\n",
       "    }\n",
       "\n",
       "    .dataframe thead th {\n",
       "        text-align: right;\n",
       "    }\n",
       "</style>\n",
       "<table border=\"1\" class=\"dataframe\">\n",
       "  <thead>\n",
       "    <tr style=\"text-align: right;\">\n",
       "      <th></th>\n",
       "      <th>duration_sec</th>\n",
       "      <th>start_time</th>\n",
       "      <th>end_time</th>\n",
       "      <th>start_station_id</th>\n",
       "      <th>start_station_name</th>\n",
       "      <th>start_station_latitude</th>\n",
       "      <th>start_station_longitude</th>\n",
       "      <th>end_station_id</th>\n",
       "      <th>end_station_name</th>\n",
       "      <th>end_station_latitude</th>\n",
       "      <th>...</th>\n",
       "      <th>bike_id</th>\n",
       "      <th>user_type</th>\n",
       "      <th>member_birth_year</th>\n",
       "      <th>member_gender</th>\n",
       "      <th>bike_share_for_all_trip</th>\n",
       "      <th>trip_month</th>\n",
       "      <th>trip_day</th>\n",
       "      <th>trip_hour</th>\n",
       "      <th>age</th>\n",
       "      <th>trip_minute</th>\n",
       "    </tr>\n",
       "  </thead>\n",
       "  <tbody>\n",
       "    <tr>\n",
       "      <th>0</th>\n",
       "      <td>52185</td>\n",
       "      <td>2019-02-28 17:32:10.145</td>\n",
       "      <td>2019-03-01 08:01:55.975</td>\n",
       "      <td>21</td>\n",
       "      <td>Montgomery St BART Station (Market St at 2nd St)</td>\n",
       "      <td>37.789625</td>\n",
       "      <td>-122.400811</td>\n",
       "      <td>13</td>\n",
       "      <td>Commercial St at Montgomery St</td>\n",
       "      <td>37.794231</td>\n",
       "      <td>...</td>\n",
       "      <td>4902</td>\n",
       "      <td>Customer</td>\n",
       "      <td>1984</td>\n",
       "      <td>Male</td>\n",
       "      <td>No</td>\n",
       "      <td>Feb</td>\n",
       "      <td>Thu</td>\n",
       "      <td>17</td>\n",
       "      <td>38</td>\n",
       "      <td>869.750000</td>\n",
       "    </tr>\n",
       "    <tr>\n",
       "      <th>2</th>\n",
       "      <td>61854</td>\n",
       "      <td>2019-02-28 12:13:13.218</td>\n",
       "      <td>2019-03-01 05:24:08.146</td>\n",
       "      <td>86</td>\n",
       "      <td>Market St at Dolores St</td>\n",
       "      <td>37.769305</td>\n",
       "      <td>-122.426826</td>\n",
       "      <td>3</td>\n",
       "      <td>Powell St BART Station (Market St at 4th St)</td>\n",
       "      <td>37.786375</td>\n",
       "      <td>...</td>\n",
       "      <td>5905</td>\n",
       "      <td>Customer</td>\n",
       "      <td>1972</td>\n",
       "      <td>Male</td>\n",
       "      <td>No</td>\n",
       "      <td>Feb</td>\n",
       "      <td>Thu</td>\n",
       "      <td>12</td>\n",
       "      <td>50</td>\n",
       "      <td>1030.900000</td>\n",
       "    </tr>\n",
       "    <tr>\n",
       "      <th>3</th>\n",
       "      <td>36490</td>\n",
       "      <td>2019-02-28 17:54:26.010</td>\n",
       "      <td>2019-03-01 04:02:36.842</td>\n",
       "      <td>375</td>\n",
       "      <td>Grove St at Masonic Ave</td>\n",
       "      <td>37.774836</td>\n",
       "      <td>-122.446546</td>\n",
       "      <td>70</td>\n",
       "      <td>Central Ave at Fell St</td>\n",
       "      <td>37.773311</td>\n",
       "      <td>...</td>\n",
       "      <td>6638</td>\n",
       "      <td>Subscriber</td>\n",
       "      <td>1989</td>\n",
       "      <td>Other</td>\n",
       "      <td>No</td>\n",
       "      <td>Feb</td>\n",
       "      <td>Thu</td>\n",
       "      <td>17</td>\n",
       "      <td>33</td>\n",
       "      <td>608.166667</td>\n",
       "    </tr>\n",
       "    <tr>\n",
       "      <th>4</th>\n",
       "      <td>1585</td>\n",
       "      <td>2019-02-28 23:54:18.549</td>\n",
       "      <td>2019-03-01 00:20:44.074</td>\n",
       "      <td>7</td>\n",
       "      <td>Frank H Ogawa Plaza</td>\n",
       "      <td>37.804562</td>\n",
       "      <td>-122.271738</td>\n",
       "      <td>222</td>\n",
       "      <td>10th Ave at E 15th St</td>\n",
       "      <td>37.792714</td>\n",
       "      <td>...</td>\n",
       "      <td>4898</td>\n",
       "      <td>Subscriber</td>\n",
       "      <td>1974</td>\n",
       "      <td>Male</td>\n",
       "      <td>Yes</td>\n",
       "      <td>Feb</td>\n",
       "      <td>Thu</td>\n",
       "      <td>23</td>\n",
       "      <td>48</td>\n",
       "      <td>26.416667</td>\n",
       "    </tr>\n",
       "    <tr>\n",
       "      <th>5</th>\n",
       "      <td>1793</td>\n",
       "      <td>2019-02-28 23:49:58.632</td>\n",
       "      <td>2019-03-01 00:19:51.760</td>\n",
       "      <td>93</td>\n",
       "      <td>4th St at Mission Bay Blvd S</td>\n",
       "      <td>37.770407</td>\n",
       "      <td>-122.391198</td>\n",
       "      <td>323</td>\n",
       "      <td>Broadway at Kearny</td>\n",
       "      <td>37.798014</td>\n",
       "      <td>...</td>\n",
       "      <td>5200</td>\n",
       "      <td>Subscriber</td>\n",
       "      <td>1959</td>\n",
       "      <td>Male</td>\n",
       "      <td>No</td>\n",
       "      <td>Feb</td>\n",
       "      <td>Thu</td>\n",
       "      <td>23</td>\n",
       "      <td>63</td>\n",
       "      <td>29.883333</td>\n",
       "    </tr>\n",
       "  </tbody>\n",
       "</table>\n",
       "<p>5 rows × 21 columns</p>\n",
       "</div>"
      ],
      "text/plain": [
       "   duration_sec              start_time                end_time  \\\n",
       "0         52185 2019-02-28 17:32:10.145 2019-03-01 08:01:55.975   \n",
       "2         61854 2019-02-28 12:13:13.218 2019-03-01 05:24:08.146   \n",
       "3         36490 2019-02-28 17:54:26.010 2019-03-01 04:02:36.842   \n",
       "4          1585 2019-02-28 23:54:18.549 2019-03-01 00:20:44.074   \n",
       "5          1793 2019-02-28 23:49:58.632 2019-03-01 00:19:51.760   \n",
       "\n",
       "   start_station_id                                start_station_name  \\\n",
       "0                21  Montgomery St BART Station (Market St at 2nd St)   \n",
       "2                86                           Market St at Dolores St   \n",
       "3               375                           Grove St at Masonic Ave   \n",
       "4                 7                               Frank H Ogawa Plaza   \n",
       "5                93                      4th St at Mission Bay Blvd S   \n",
       "\n",
       "   start_station_latitude  start_station_longitude  end_station_id  \\\n",
       "0               37.789625              -122.400811              13   \n",
       "2               37.769305              -122.426826               3   \n",
       "3               37.774836              -122.446546              70   \n",
       "4               37.804562              -122.271738             222   \n",
       "5               37.770407              -122.391198             323   \n",
       "\n",
       "                               end_station_name  end_station_latitude  ...  \\\n",
       "0                Commercial St at Montgomery St             37.794231  ...   \n",
       "2  Powell St BART Station (Market St at 4th St)             37.786375  ...   \n",
       "3                        Central Ave at Fell St             37.773311  ...   \n",
       "4                         10th Ave at E 15th St             37.792714  ...   \n",
       "5                            Broadway at Kearny             37.798014  ...   \n",
       "\n",
       "   bike_id   user_type member_birth_year  member_gender  \\\n",
       "0     4902    Customer              1984           Male   \n",
       "2     5905    Customer              1972           Male   \n",
       "3     6638  Subscriber              1989          Other   \n",
       "4     4898  Subscriber              1974           Male   \n",
       "5     5200  Subscriber              1959           Male   \n",
       "\n",
       "  bike_share_for_all_trip trip_month trip_day trip_hour  age  trip_minute  \n",
       "0                      No        Feb      Thu        17   38   869.750000  \n",
       "2                      No        Feb      Thu        12   50  1030.900000  \n",
       "3                      No        Feb      Thu        17   33   608.166667  \n",
       "4                     Yes        Feb      Thu        23   48    26.416667  \n",
       "5                      No        Feb      Thu        23   63    29.883333  \n",
       "\n",
       "[5 rows x 21 columns]"
      ]
     },
     "execution_count": 30,
     "metadata": {},
     "output_type": "execute_result"
    }
   ],
   "source": [
    "df_clean.head()"
   ]
  },
  {
   "cell_type": "code",
   "execution_count": 31,
   "metadata": {
    "slideshow": {
     "slide_type": "skip"
    }
   },
   "outputs": [
    {
     "data": {
      "text/plain": [
       "11.733379060161264"
      ]
     },
     "execution_count": 31,
     "metadata": {},
     "output_type": "execute_result"
    }
   ],
   "source": [
    "df_clean['trip_minute'].mean()"
   ]
  },
  {
   "cell_type": "markdown",
   "metadata": {
    "slideshow": {
     "slide_type": "slide"
    }
   },
   "source": [
    "# histogram of the duration bike rides in minutes "
   ]
  },
  {
   "cell_type": "code",
   "execution_count": 57,
   "metadata": {
    "scrolled": false,
    "slideshow": {
     "slide_type": "subslide"
    }
   },
   "outputs": [
    {
     "data": {
      "image/png": "[encoded data removed]",
      "text/plain": [
       "<Figure size 432x288 with 1 Axes>"
      ]
     },
     "metadata": {
      "needs_background": "light"
     },
     "output_type": "display_data"
    }
   ],
   "source": [
    "# histogram of the duration bike rides in minutes \n",
    "bins = np.arange(0, df_clean['trip_minute'].max()+10, 10)\n",
    "\n",
    "\n",
    "plt.hist(data = df_clean, x = 'trip_minute', bins = bins)\n",
    "label('Duration (min)', 'Number of Trips', 'Distribution of Trip Durations')"
   ]
  },
  {
   "cell_type": "markdown",
   "metadata": {
    "slideshow": {
     "slide_type": "subslide"
    }
   },
   "source": [
    "### now we have to transform it to make more understandable"
   ]
  },
  {
   "cell_type": "code",
   "execution_count": 69,
   "metadata": {
    "slideshow": {
     "slide_type": "subslide"
    }
   },
   "outputs": [
    {
     "data": {
      "image/png": "[encoded data removed]",
      "text/plain": [
       "<Figure size 432x288 with 1 Axes>"
      ]
     },
     "metadata": {
      "needs_background": "light"
     },
     "output_type": "display_data"
    }
   ],
   "source": [
    "# logarthmic scale transformation on a histogram\n",
    "# there's a long tail in the distribution, so let's put it on a log scale instead\n",
    "bins = 10 ** np.arange(0.0, np.log10(df_clean['trip_minute'].max()) + 0.1, 0.1)\n",
    "tick_locs = [1, 2, 5, 10, 20, 50, 100, 200, 300, 500]\n",
    "\n",
    "plt.hist(data = df_clean, x = 'trip_minute', bins = bins)\n",
    "plt.xscale(\"log\")\n",
    "plt.xticks(tick_locs, tick_locs)\n",
    "label('Duration minutes', 'Number of Trips', 'Distribution of Trip Durations')"
   ]
  },
  {
   "cell_type": "markdown",
   "metadata": {
    "slideshow": {
     "slide_type": "subslide"
    }
   },
   "source": [
    "> Duration has a long tailed distribution. When plotted on a log-scale, the duration distribution looks roughly bimodal, with one peak between 5 and 10. Most of the bike trips lasts between 5 and 15 minutes. "
   ]
  },
  {
   "cell_type": "code",
   "execution_count": 34,
   "metadata": {
    "slideshow": {
     "slide_type": "skip"
    }
   },
   "outputs": [
    {
     "data": {
      "text/plain": [
       "count    5.242919\n",
       "mean     1.069423\n",
       "std      1.437276\n",
       "min      0.007179\n",
       "25%      0.731051\n",
       "50%      0.929419\n",
       "75%      1.118926\n",
       "max      3.148952\n",
       "Name: trip_minute, dtype: float64"
      ]
     },
     "execution_count": 34,
     "metadata": {},
     "output_type": "execute_result"
    }
   ],
   "source": [
    "np.log10(df_clean.trip_minute.describe())"
   ]
  },
  {
   "cell_type": "markdown",
   "metadata": {
    "slideshow": {
     "slide_type": "skip"
    }
   },
   "source": [
    "### Discuss the distribution(s) of your variable(s) of interest. Were there any unusual points? Did you need to perform any transformations?\n",
    "\n",
    "> I needed to have to perform a log transform in the minutes duration. The data looked bimodal under the log transformation with one peak between 5 and 10 minutes.\n",
    "\n",
    "### Of the features you investigated, were there any unusual distributions? Did you perform any operations on the data to tidy, adjust, or change the form of the data? If so, why did you do this?\n",
    "\n",
    "> There were no unusal distributuons. Each variable explored showed what you would expect."
   ]
  },
  {
   "cell_type": "markdown",
   "metadata": {
    "slideshow": {
     "slide_type": "slide"
    }
   },
   "source": [
    "# Bivariate Exploration"
   ]
  },
  {
   "cell_type": "markdown",
   "metadata": {
    "slideshow": {
     "slide_type": "slide"
    }
   },
   "source": [
    "# Boxplot of Duraction VS. Type of user"
   ]
  },
  {
   "cell_type": "code",
   "execution_count": 72,
   "metadata": {
    "slideshow": {
     "slide_type": "subslide"
    }
   },
   "outputs": [
    {
     "data": {
      "image/png": "[encoded data removed]",
      "text/plain": [
       "<Figure size 432x288 with 1 Axes>"
      ]
     },
     "metadata": {
      "needs_background": "light"
     },
     "output_type": "display_data"
    }
   ],
   "source": [
    "general = df_clean[df_clean['duration_sec']<2000]\n",
    "\n",
    "sb.boxplot(data =general , y='user_type', x='duration_sec')\n",
    "label(\"Duration of Trip (sec)\", \"\", 'Duration of Trip vs User Type')"
   ]
  },
  {
   "cell_type": "markdown",
   "metadata": {
    "slideshow": {
     "slide_type": "subslide"
    }
   },
   "source": [
    "> Graphic shows that customers have more duration of trip than subscribers. Interesting! perhaps it was because it its their first experience and they wanted to ride longer?"
   ]
  },
  {
   "cell_type": "markdown",
   "metadata": {
    "slideshow": {
     "slide_type": "slide"
    }
   },
   "source": [
    "# Gender VS. Duration in seconds"
   ]
  },
  {
   "cell_type": "code",
   "execution_count": 73,
   "metadata": {
    "slideshow": {
     "slide_type": "subslide"
    }
   },
   "outputs": [
    {
     "data": {
      "image/png": "[encoded data removed]",
      "text/plain": [
       "<Figure size 432x288 with 1 Axes>"
      ]
     },
     "metadata": {
      "needs_background": "light"
     },
     "output_type": "display_data"
    }
   ],
   "source": [
    "general = df_clean[df_clean['duration_sec']<2000]\n",
    "\n",
    "\n",
    "sb.boxplot(x=\"member_gender\", y=\"duration_sec\", data=general)\n",
    "label(\"Duration of Trip\", \"Member Gender\", \"Member Gender vs Duration of Trip(sec)\");"
   ]
  },
  {
   "cell_type": "markdown",
   "metadata": {
    "slideshow": {
     "slide_type": "subslide"
    }
   },
   "source": [
    "> Graphic shows that duration of trip distribution regarding to genders. Duration of trip is quite less for man gender but it is quite similar for female and others gender"
   ]
  },
  {
   "cell_type": "markdown",
   "metadata": {
    "slideshow": {
     "slide_type": "slide"
    }
   },
   "source": [
    "# Scatter Age VS. trip duration (min)"
   ]
  },
  {
   "cell_type": "code",
   "execution_count": 74,
   "metadata": {
    "scrolled": false,
    "slideshow": {
     "slide_type": "subslide"
    }
   },
   "outputs": [
    {
     "data": {
      "image/png": "[encoded data removed]",
      "text/plain": [
       "<Figure size 432x288 with 1 Axes>"
      ]
     },
     "metadata": {
      "needs_background": "light"
     },
     "output_type": "display_data"
    }
   ],
   "source": [
    "# scatter charts showing distribution between age and trip duration\n",
    "# plt.figure(figsize=[8,5])\n",
    "plt.scatter(data = df_clean, x = 'age', y ='trip_minute')\n",
    "label('Age', 'Trip Duration (min)', 'Trip distribution by Age')"
   ]
  },
  {
   "cell_type": "markdown",
   "metadata": {
    "slideshow": {
     "slide_type": "subslide"
    }
   },
   "source": [
    "> Vast Majority of rides are for Users between ages 25 and 45 to 50 showing the inverse relationship between age and the trip duration."
   ]
  },
  {
   "cell_type": "markdown",
   "metadata": {
    "slideshow": {
     "slide_type": "slide"
    }
   },
   "source": [
    "# usage between Customers vs Subscribers"
   ]
  },
  {
   "cell_type": "code",
   "execution_count": 38,
   "metadata": {
    "slideshow": {
     "slide_type": "subslide"
    }
   },
   "outputs": [
    {
     "data": {
      "image/png": "[encoded data removed]",
      "text/plain": [
       "<Figure size 720x360 with 2 Axes>"
      ]
     },
     "metadata": {
      "needs_background": "light"
     },
     "output_type": "display_data"
    }
   ],
   "source": [
    "# comparison of usage between Customers vs Subscribersin 2019\n",
    "graph = sb.catplot(data=df_clean, x='trip_day', col=\"user_type\", kind='count', sharey = True);\n",
    "\n",
    "\n",
    "graph.set_axis_labels(\"Day\", \"Number of Bike Trips\");\n",
    "graph.set_titles(\"{col_name}\");\n",
    "graph.fig.suptitle('Ford GoBike System Customers vs. Subscribers in 2019', \n",
    "                   y=1.07, fontsize=16, fontweight='bold');\n",
    "graph.set_xticklabels(rotation=20);"
   ]
  },
  {
   "cell_type": "markdown",
   "metadata": {
    "slideshow": {
     "slide_type": "subslide"
    }
   },
   "source": [
    "> As we can see the subscribers are way more using the bikes than the customers"
   ]
  },
  {
   "cell_type": "markdown",
   "metadata": {
    "slideshow": {
     "slide_type": "slide"
    }
   },
   "source": [
    "# point plot customer VS. Subscriber"
   ]
  },
  {
   "cell_type": "code",
   "execution_count": 78,
   "metadata": {
    "slideshow": {
     "slide_type": "subslide"
    }
   },
   "outputs": [
    {
     "data": {
      "image/png": "[encoded data removed]",
      "text/plain": [
       "<Figure size 432x288 with 1 Axes>"
      ]
     },
     "metadata": {
      "needs_background": "light"
     },
     "output_type": "display_data"
    }
   ],
   "source": [
    "df_clean['trip_day']\n",
    "df_cleaned_user_week = df_clean.groupby(['trip_day', 'user_type']).size().reset_index()\n",
    "weekday = ['Mon', 'Tue', 'Wed', 'Thu', 'Fri', 'Sat', 'Sun']\n",
    "ax = sb.pointplot(data=df_cleaned_user_week, x='trip_day', \n",
    "                  y=0, hue = 'user_type', scale=.7, order = weekday);\n",
    "\n",
    "plt.grid()\n",
    "label(\"Weekdays\", \"Number of Bike Trips\", \"Ford GoBikes Sharing Customer vs. Subscribers Trends\")"
   ]
  },
  {
   "cell_type": "markdown",
   "metadata": {
    "slideshow": {
     "slide_type": "subslide"
    }
   },
   "source": [
    "> customers usage is low and consistant staying under 5,000 bike trips during the week. on the other hand Subscribers frequently used the the Ford GoBikes Sharing platform during Monday - Thursday with a drop of the number of bike trips on Thursday and a it is consistent from saturday to friday."
   ]
  },
  {
   "cell_type": "markdown",
   "metadata": {
    "slideshow": {
     "slide_type": "skip"
    }
   },
   "source": [
    "### Talk about some of the relationships you observed in this part of the investigation. How did the feature(s) of interest vary with other features in the dataset?\n",
    "\n",
    ">The importance of including the user type to the data analysis revealed that there were some differences in the behaviour of the customers and subscribers using the Ford GoBikes Sharing platform.\n",
    "\n",
    ">The dataset highlights the usage trends between customers and subscribers. This suggests that Customers are casual users and the Subscribers are daily commuters that maybe working, studying etc.\n",
    "\n",
    "### Did you observe any interesting relationships between the other features (not the main feature(s) of interest)?\n",
    "\n",
    "> Through Observation, there is a difference in usage between customers and subscribers. The popularity of using Ford GoBikes for Subscribers is mostly on Thursday and decreases more on Friday as opposed to Costumers where it is relativly stable and way less than the subscribers"
   ]
  },
  {
   "cell_type": "markdown",
   "metadata": {
    "slideshow": {
     "slide_type": "slide"
    }
   },
   "source": [
    "# Comparing Gender VS. type of user"
   ]
  },
  {
   "cell_type": "code",
   "execution_count": 80,
   "metadata": {
    "slideshow": {
     "slide_type": "subslide"
    }
   },
   "outputs": [
    {
     "data": {
      "image/png": "[encoded data removed]",
      "text/plain": [
       "<Figure size 432x288 with 1 Axes>"
      ]
     },
     "metadata": {
      "needs_background": "light"
     },
     "output_type": "display_data"
    }
   ],
   "source": [
    "ax = sb.countplot(data = df_clean, x = 'member_gender', hue = 'user_type')\n",
    "\n",
    "ax.set_autoscale_on(True)\n",
    "label(\"\", \"Count\", \"Member Gender Distribution Regarding to User Type (Customer vs. Subscriber)\")"
   ]
  },
  {
   "cell_type": "markdown",
   "metadata": {
    "slideshow": {
     "slide_type": "subslide"
    }
   },
   "source": [
    "> Graphic shows that over than 2.000 female are subscriber it is way more for male gender. \n",
    "\n",
    "> Roughly 120.000 male members are subscriber. Subcribers are more than customers for male, female and other genders."
   ]
  },
  {
   "cell_type": "markdown",
   "metadata": {
    "slideshow": {
     "slide_type": "slide"
    }
   },
   "source": [
    "# Multivariate Exploration"
   ]
  },
  {
   "cell_type": "markdown",
   "metadata": {
    "slideshow": {
     "slide_type": "slide"
    }
   },
   "source": [
    "# point plot of trip duration VS. gender"
   ]
  },
  {
   "cell_type": "code",
   "execution_count": 82,
   "metadata": {
    "slideshow": {
     "slide_type": "subslide"
    }
   },
   "outputs": [
    {
     "data": {
      "image/png": "[encoded data removed]",
      "text/plain": [
       "<Figure size 432x288 with 1 Axes>"
      ]
     },
     "metadata": {
      "needs_background": "light"
     },
     "output_type": "display_data"
    }
   ],
   "source": [
    "sb.pointplot(data = df_clean, x = 'trip_day', y = 'duration_sec', hue = 'member_gender',\n",
    "             order=['Mon','Tue','Wed','Thu','Fri','Sat','Sun'], palette=['#e41a1c', '#377eb8', '#4daf4a'], \n",
    "             ci=None)\n",
    "plt.grid()\n",
    "label(\"\", \"Mean Duration of Trip (sec)\", \"Mean Duration of Trip vs Gender\")"
   ]
  },
  {
   "cell_type": "markdown",
   "metadata": {
    "slideshow": {
     "slide_type": "subslide"
    }
   },
   "source": [
    "> As we can see that the 'Other' gender has the most fluctuation and an increase from Friday\n",
    "\n",
    "> Male and Female are relatively stable compared to the 'Other' gender but all of them has an increase from Friday "
   ]
  },
  {
   "cell_type": "code",
   "execution_count": 42,
   "metadata": {
    "slideshow": {
     "slide_type": "skip"
    }
   },
   "outputs": [],
   "source": [
    "general_age = df_clean[df_clean['member_birth_year'] > 1980]"
   ]
  },
  {
   "cell_type": "markdown",
   "metadata": {
    "slideshow": {
     "slide_type": "slide"
    }
   },
   "source": [
    "# lmplot of Age VS. Duration of trip "
   ]
  },
  {
   "cell_type": "code",
   "execution_count": 84,
   "metadata": {
    "slideshow": {
     "slide_type": "subslide"
    }
   },
   "outputs": [
    {
     "data": {
      "image/png": "[encoded data removed]",
      "text/plain": [
       "<Figure size 810.375x720 with 1 Axes>"
      ]
     },
     "metadata": {
      "needs_background": "light"
     },
     "output_type": "display_data"
    }
   ],
   "source": [
    "sb.lmplot(data = general_age, x = 'age', y = 'duration_sec', hue = 'member_gender', palette = 'Dark2',\n",
    "       fit_reg = False, scatter_kws={\"s\": 100}, height = 10, markers=[\"o\",\"+\",\"x\"])\n",
    "plt.title('Age vs Duration of Trip Regarding to Gender', fontsize=24)\n",
    "\n",
    "plt.xticks(range(19,40,1))\n",
    "plt.xticks(rotation=90)\n",
    "label(\"Age\", \"Duration of trip (sec)\", \"\")"
   ]
  },
  {
   "cell_type": "markdown",
   "metadata": {
    "slideshow": {
     "slide_type": "subslide"
    }
   },
   "source": [
    "> User who has highest duration of trip and is 19 years old is female. \n",
    "\n",
    "> User who has more duration of trip than 8.000 second is male."
   ]
  },
  {
   "cell_type": "markdown",
   "metadata": {
    "slideshow": {
     "slide_type": "slide"
    }
   },
   "source": [
    "# Scatter plots of Age VS. gender and Duration (min)"
   ]
  },
  {
   "cell_type": "code",
   "execution_count": 44,
   "metadata": {
    "slideshow": {
     "slide_type": "subslide"
    }
   },
   "outputs": [
    {
     "data": {
      "image/png": "[encoded data removed]",
      "text/plain": [
       "<Figure size 476x720 with 3 Axes>"
      ]
     },
     "metadata": {
      "needs_background": "light"
     },
     "output_type": "display_data"
    }
   ],
   "source": [
    "g = sb.FacetGrid(data = df_clean, col = 'member_gender', col_wrap = 2, \n",
    "                  height = 5, aspect =0.65, xlim = [10, 80], ylim = [-100, 1500])\n",
    "g.map_dataframe(sb.scatterplot, 'age', 'trip_minute', alpha= None)\n",
    "g.set_axis_labels('Age (year)', 'Duration (min)')\n",
    "g.add_legend()\n",
    "plt.show()"
   ]
  },
  {
   "cell_type": "markdown",
   "metadata": {
    "slideshow": {
     "slide_type": "subslide"
    }
   },
   "source": [
    "> Comparing the gender types as it relates to trip duration, the age 20 to 40 represents the group that does most of the rides. \n",
    "\n",
    "> Females and males do appear to have similar ride average"
   ]
  },
  {
   "cell_type": "markdown",
   "metadata": {
    "slideshow": {
     "slide_type": "slide"
    }
   },
   "source": [
    "# SUMMARY"
   ]
  },
  {
   "cell_type": "markdown",
   "metadata": {
    "slideshow": {
     "slide_type": "subslide"
    }
   },
   "source": [
    "- In this project, I got the data from udaicty data lists provided, I assessed and cleaned data at wrangling phase and prepared for analysis. Later I started analysis data step by step.\n",
    "\n",
    "- Quality issues were mostly incorrect data types and there were some missing values. I decided to delete rows of missing information. Finally I started to analysis data."
   ]
  },
  {
   "cell_type": "markdown",
   "metadata": {
    "slideshow": {
     "slide_type": "subslide"
    }
   },
   "source": [
    "### Univariate Plots\n",
    "First I did univariate exploration. Here is my question to ask myself.\n",
    "\n",
    "1. Users Distribution (pie chart): Subscribers were 90.5% while Customers are 9.5%\n",
    "2. Member Birth year Distibution (histogram): Most of the users birth year were between 1975 to 1995\n",
    "3. Gender Distribution (bar chart): Males are the majority of this dataset, females are second and lastly are 'Other'\n",
    "4. Daily usage Distribution (bar chart): Least of the rides are on Sunday which is a weekend, and Saturday\n",
    "5. hourly usage Distribution (count plot): hours are mainly high between 8 AM and 6 to 5 PM."
   ]
  },
  {
   "cell_type": "markdown",
   "metadata": {
    "slideshow": {
     "slide_type": "subslide"
    }
   },
   "source": [
    "## Bivariate Plots\n",
    "\n",
    "1. Duration VS. User Type (box plot): Customers have more duration of trip than subscribers.\n",
    "2. Gender vs Duration in seconds (box plot): Duration of trip is quite less for the male gender but it is quite similar for female and others gender\n",
    "3. Trip Duration (min) (scatter):Majority of rides are for Users between ages 25 and (45 - 50) showing an inverse relationship between age and the trip duration.\n",
    "4. Customers vs. Subscribers Usage in days (bar chart): The subscribers are way more using the bikes than the customers"
   ]
  },
  {
   "cell_type": "markdown",
   "metadata": {
    "slideshow": {
     "slide_type": "subslide"
    }
   },
   "source": [
    "## Multivariate Plots\n",
    "\n",
    "1. Mean Duration of Trip vs Gender (point plot): the 'Other' gender has the most fluctuation and an increase from Friday. Male and Female are relatively stable compared to the 'Other' gender but all of them has an increase from Friday\n",
    "\n",
    "2. Age vs Duration of Trip Regarding to Gender (lmplot): the user who has highest duration of trip and is 19 years old is female. User who has more duration of trip than 8.000 second is male.\n",
    "\n",
    "3. Duration VS. Gender Types VS. Age (Facetgrid scatterplot): Comparing the gender types as it relates to trip duration, the age 20 to 40 represents the group that does most of the rides. Females and males do appear to have similar ride average"
   ]
  },
  {
   "cell_type": "code",
   "execution_count": null,
   "metadata": {
    "slideshow": {
     "slide_type": "skip"
    }
   },
   "outputs": [],
   "source": []
  }
 ],
 "metadata": {
  "celltoolbar": "Slideshow",
  "kernelspec": {
   "display_name": "Python 3 (ipykernel)",
   "language": "python",
   "name": "python3"
  },
  "language_info": {
   "codemirror_mode": {
    "name": "ipython",
    "version": 3
   },
   "file_extension": ".py",
   "mimetype": "text/x-python",
   "name": "python",
   "nbconvert_exporter": "python",
   "pygments_lexer": "ipython3",
   "version": "3.9.11"
  }
 },
 "nbformat": 4,
 "nbformat_minor": 2
}
